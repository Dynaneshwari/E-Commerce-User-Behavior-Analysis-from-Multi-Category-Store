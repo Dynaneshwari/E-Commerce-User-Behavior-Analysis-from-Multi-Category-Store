{
 "cells": [
  {
   "cell_type": "markdown",
   "id": "2be5a9eb-7a38-40b8-87ab-4e3bf311f249",
   "metadata": {},
   "source": [
    "# E-Commerce User Behavior Analysis from Multi Category Store"
   ]
  },
  {
   "cell_type": "code",
   "execution_count": 1,
   "id": "5f5bbb79-9ea0-4e67-a72e-040019fc3b03",
   "metadata": {},
   "outputs": [],
   "source": [
    "import findspark\n",
    "findspark.init()"
   ]
  },
  {
   "cell_type": "code",
   "execution_count": 2,
   "id": "1d45f00c-c25c-45da-876c-acad7fc42e9d",
   "metadata": {},
   "outputs": [],
   "source": [
    "import pyspark\n",
    "from pyspark.context import SparkContext\n",
    "from pyspark import SparkConf\n",
    "from pyspark.sql import SparkSession, SQLContext, Row\n",
    "import os"
   ]
  },
  {
   "cell_type": "code",
   "execution_count": 3,
   "id": "4e025526-2a8a-419f-b5df-bfe5cb7b36a8",
   "metadata": {},
   "outputs": [],
   "source": [
    "conf = SparkConf()"
   ]
  },
  {
   "cell_type": "code",
   "execution_count": 4,
   "id": "6f545687-c819-40c2-aadc-0403fc3cb904",
   "metadata": {},
   "outputs": [
    {
     "name": "stderr",
     "output_type": "stream",
     "text": [
      "24/03/27 18:30:28 WARN Utils: Your hostname, Dynaneshwaris-MacBook-Air.local resolves to a loopback address: 127.0.0.1; using 10.0.0.10 instead (on interface en0)\n",
      "24/03/27 18:30:28 WARN Utils: Set SPARK_LOCAL_IP if you need to bind to another address\n",
      "Setting default log level to \"WARN\".\n",
      "To adjust logging level use sc.setLogLevel(newLevel). For SparkR, use setLogLevel(newLevel).\n",
      "24/03/27 18:30:29 WARN NativeCodeLoader: Unable to load native-hadoop library for your platform... using builtin-java classes where applicable\n"
     ]
    }
   ],
   "source": [
    "sc = SparkContext(conf = conf)\n",
    "sc.setLogLevel(\"Error\")"
   ]
  },
  {
   "cell_type": "code",
   "execution_count": 5,
   "id": "ca5cb898-42bf-47e3-829b-591c51c58f0b",
   "metadata": {},
   "outputs": [],
   "source": [
    "spark = SparkSession.builder \\\n",
    "    .appName(\"2019-Oct\") \\\n",
    "    .getOrCreate()"
   ]
  },
  {
   "cell_type": "code",
   "execution_count": 6,
   "id": "e027c988-7d15-4284-bb6d-76b5b16ecd3c",
   "metadata": {},
   "outputs": [
    {
     "name": "stderr",
     "output_type": "stream",
     "text": [
      "                                                                                \r"
     ]
    },
    {
     "name": "stdout",
     "output_type": "stream",
     "text": [
      "+-------------------+----------+----------+-------------------+--------------------+--------+-------+---------+--------------------+\n",
      "|         event_time|event_type|product_id|        category_id|       category_code|   brand|  price|  user_id|        user_session|\n",
      "+-------------------+----------+----------+-------------------+--------------------+--------+-------+---------+--------------------+\n",
      "|2019-09-30 20:00:00|      view|  44600062|2103807459595387724|                NULL|shiseido|  35.79|541312140|72d76fde-8bb3-4e0...|\n",
      "|2019-09-30 20:00:00|      view|   3900821|2053013552326770905|appliances.enviro...|    aqua|   33.2|554748717|9333dfbd-b87a-470...|\n",
      "|2019-09-30 20:00:01|      view|  17200506|2053013559792632471|furniture.living_...|    NULL|  543.1|519107250|566511c2-e2e3-422...|\n",
      "|2019-09-30 20:00:01|      view|   1307067|2053013558920217191|  computers.notebook|  lenovo| 251.74|550050854|7c90fc70-0e80-459...|\n",
      "|2019-09-30 20:00:04|      view|   1004237|2053013555631882655|electronics.smart...|   apple|1081.98|535871217|c6bd7419-2748-4c5...|\n",
      "|2019-09-30 20:00:05|      view|   1480613|2053013561092866779|   computers.desktop|  pulser| 908.62|512742880|0d0d91c2-c9c2-4e8...|\n",
      "|2019-09-30 20:00:08|      view|  17300353|2053013553853497655|                NULL|   creed| 380.96|555447699|4fe811e9-91de-46d...|\n",
      "|2019-09-30 20:00:08|      view|  31500053|2053013558031024687|                NULL|luminarc|  41.16|550978835|6280d577-25c8-414...|\n",
      "|2019-09-30 20:00:10|      view|  28719074|2053013565480109009|  apparel.shoes.keds|   baden| 102.71|520571932|ac1cd4e5-a3ce-422...|\n",
      "|2019-09-30 20:00:11|      view|   1004545|2053013555631882655|electronics.smart...|  huawei| 566.01|537918940|406c46ed-90a4-478...|\n",
      "|2019-09-30 20:00:11|      view|   2900536|2053013554776244595|appliances.kitche...|elenberg|  51.46|555158050|b5bdd0b3-4ca2-4c5...|\n",
      "|2019-09-30 20:00:11|      view|   1005011|2053013555631882655|electronics.smart...| samsung| 900.64|530282093|50a293fb-5940-41b...|\n",
      "|2019-09-30 20:00:13|      view|   3900746|2053013552326770905|appliances.enviro...|   haier| 102.38|555444559|98b88fa0-d8fa-4b9...|\n",
      "|2019-09-30 20:00:15|      view|  44600062|2103807459595387724|                NULL|shiseido|  35.79|541312140|72d76fde-8bb3-4e0...|\n",
      "|2019-09-30 20:00:16|      view|  13500240|2053013557099889147|furniture.bedroom...|     brw|  93.18|555446365|7f0062d8-ead0-4e0...|\n",
      "|2019-09-30 20:00:17|      view|  23100006|2053013561638126333|                NULL|    NULL| 357.79|513642368|17566c27-0a8f-450...|\n",
      "|2019-09-30 20:00:18|      view|   1801995|2053013554415534427|electronics.video.tv|   haier| 193.03|537192226|e3151795-c355-4ef...|\n",
      "|2019-09-30 20:00:18|      view|  10900029|2053013555069845885|appliances.kitche...|   bosch|  58.95|519528062|901b9e3c-3f8f-414...|\n",
      "|2019-09-30 20:00:19|      view|   1306631|2053013558920217191|  computers.notebook|      hp| 580.89|550050854|7c90fc70-0e80-459...|\n",
      "|2019-09-30 20:00:19|      view|   1005135|2053013555631882655|electronics.smart...|   apple|1747.79|535871217|c6bd7419-2748-4c5...|\n",
      "+-------------------+----------+----------+-------------------+--------------------+--------+-------+---------+--------------------+\n",
      "only showing top 20 rows\n",
      "\n"
     ]
    }
   ],
   "source": [
    "df = spark.read.csv(\"2019-Oct.csv\", header=True, inferSchema=True)\n",
    "df.show()"
   ]
  },
  {
   "cell_type": "code",
   "execution_count": 7,
   "id": "40821b76-1a22-46fc-9a0d-026f07b2556c",
   "metadata": {},
   "outputs": [
    {
     "name": "stdout",
     "output_type": "stream",
     "text": [
      "+----------+----------+-------------------+-------+---------+\n",
      "|event_type|product_id|        category_id|  price|  user_id|\n",
      "+----------+----------+-------------------+-------+---------+\n",
      "|      view|  44600062|2103807459595387724|  35.79|541312140|\n",
      "|      view|   3900821|2053013552326770905|   33.2|554748717|\n",
      "|      view|  17200506|2053013559792632471|  543.1|519107250|\n",
      "|      view|   1307067|2053013558920217191| 251.74|550050854|\n",
      "|      view|   1004237|2053013555631882655|1081.98|535871217|\n",
      "|      view|   1480613|2053013561092866779| 908.62|512742880|\n",
      "|      view|  17300353|2053013553853497655| 380.96|555447699|\n",
      "|      view|  31500053|2053013558031024687|  41.16|550978835|\n",
      "|      view|  28719074|2053013565480109009| 102.71|520571932|\n",
      "|      view|   1004545|2053013555631882655| 566.01|537918940|\n",
      "|      view|   2900536|2053013554776244595|  51.46|555158050|\n",
      "|      view|   1005011|2053013555631882655| 900.64|530282093|\n",
      "|      view|   3900746|2053013552326770905| 102.38|555444559|\n",
      "|      view|  44600062|2103807459595387724|  35.79|541312140|\n",
      "|      view|  13500240|2053013557099889147|  93.18|555446365|\n",
      "|      view|  23100006|2053013561638126333| 357.79|513642368|\n",
      "|      view|   1801995|2053013554415534427| 193.03|537192226|\n",
      "|      view|  10900029|2053013555069845885|  58.95|519528062|\n",
      "|      view|   1306631|2053013558920217191| 580.89|550050854|\n",
      "|      view|   1005135|2053013555631882655|1747.79|535871217|\n",
      "+----------+----------+-------------------+-------+---------+\n",
      "only showing top 20 rows\n",
      "\n"
     ]
    }
   ],
   "source": [
    "df = df.drop(\"event_time\", \"user_session\", \"category_code\", \"brand\")\n",
    "df.show()"
   ]
  },
  {
   "cell_type": "code",
   "execution_count": 8,
   "id": "089d5148-ba9d-4e9e-b61c-6e41e5079ddf",
   "metadata": {},
   "outputs": [
    {
     "name": "stderr",
     "output_type": "stream",
     "text": [
      "[Stage 4:======================================================>  (41 + 2) / 43]\r"
     ]
    },
    {
     "name": "stdout",
     "output_type": "stream",
     "text": [
      "Number of rows: 42448764\n",
      "Number of columns: 5\n"
     ]
    },
    {
     "name": "stderr",
     "output_type": "stream",
     "text": [
      "                                                                                \r"
     ]
    }
   ],
   "source": [
    "num_rows = df.count()\n",
    "\n",
    "columns = df.columns\n",
    "\n",
    "num_columns = len(columns)\n",
    "\n",
    "print(\"Number of rows:\", num_rows)\n",
    "print(\"Number of columns:\", num_columns)"
   ]
  },
  {
   "cell_type": "code",
   "execution_count": 9,
   "id": "2577899b-ca32-4c08-8a7b-faa2f2375616",
   "metadata": {},
   "outputs": [
    {
     "name": "stderr",
     "output_type": "stream",
     "text": [
      "                                                                                \r"
     ]
    },
    {
     "name": "stdout",
     "output_type": "stream",
     "text": [
      "Number of Null in column: event_type 0\n"
     ]
    },
    {
     "name": "stderr",
     "output_type": "stream",
     "text": [
      "                                                                                \r"
     ]
    },
    {
     "name": "stdout",
     "output_type": "stream",
     "text": [
      "Number of Null in column: product_id 0\n"
     ]
    },
    {
     "name": "stderr",
     "output_type": "stream",
     "text": [
      "                                                                                \r"
     ]
    },
    {
     "name": "stdout",
     "output_type": "stream",
     "text": [
      "Number of Null in column: category_id 0\n"
     ]
    },
    {
     "name": "stderr",
     "output_type": "stream",
     "text": [
      "                                                                                \r"
     ]
    },
    {
     "name": "stdout",
     "output_type": "stream",
     "text": [
      "Number of Null in column: price 0\n"
     ]
    },
    {
     "name": "stderr",
     "output_type": "stream",
     "text": [
      "[Stage 19:=====================================================>  (41 + 2) / 43]\r"
     ]
    },
    {
     "name": "stdout",
     "output_type": "stream",
     "text": [
      "Number of Null in column: user_id 0\n"
     ]
    },
    {
     "name": "stderr",
     "output_type": "stream",
     "text": [
      "                                                                                \r"
     ]
    }
   ],
   "source": [
    "for col_names in df.columns:\n",
    "    null_count = df.filter(col(col_names).isNull()).count()\n",
    "    print(\"Number of Null in column:\", col_names, null_count)"
   ]
  },
  {
   "cell_type": "code",
   "execution_count": 10,
   "id": "cc2ea4b9-e987-4480-a10d-8a6ea507ed91",
   "metadata": {},
   "outputs": [
    {
     "name": "stderr",
     "output_type": "stream",
     "text": [
      "[Stage 22:=====================================================>  (41 + 2) / 43]\r"
     ]
    },
    {
     "name": "stdout",
     "output_type": "stream",
     "text": [
      "+----------+--------+\n",
      "|event_type|   count|\n",
      "+----------+--------+\n",
      "|  purchase|  742849|\n",
      "|      view|40779399|\n",
      "|      cart|  926516|\n",
      "+----------+--------+\n",
      "\n"
     ]
    },
    {
     "name": "stderr",
     "output_type": "stream",
     "text": [
      "                                                                                \r"
     ]
    }
   ],
   "source": [
    "df.groupBy(\"event_type\").count().show()"
   ]
  },
  {
   "cell_type": "code",
   "execution_count": 11,
   "id": "2bf921a5-3ddb-4c91-83d8-1e1cdd6c6f81",
   "metadata": {},
   "outputs": [
    {
     "name": "stdout",
     "output_type": "stream",
     "text": [
      "root\n",
      " |-- event_type: string (nullable = true)\n",
      " |-- product_id: integer (nullable = true)\n",
      " |-- category_id: long (nullable = true)\n",
      " |-- price: double (nullable = true)\n",
      " |-- user_id: integer (nullable = true)\n",
      "\n"
     ]
    }
   ],
   "source": [
    "df.printSchema()"
   ]
  },
  {
   "cell_type": "code",
   "execution_count": 12,
   "id": "755469c1-652a-4b24-b619-b478a15aabec",
   "metadata": {},
   "outputs": [],
   "source": [
    "from pyspark.ml.feature import(\n",
    "    StringIndexer, \n",
    "    VectorAssembler\n",
    ")"
   ]
  },
  {
   "cell_type": "code",
   "execution_count": 13,
   "id": "0d6b1954-faa3-49fd-acf7-ff1464a92305",
   "metadata": {},
   "outputs": [
    {
     "name": "stderr",
     "output_type": "stream",
     "text": [
      "                                                                                \r"
     ]
    }
   ],
   "source": [
    "indexer = StringIndexer(inputCol = \"event_type\", outputCol = \"Event_Type\")\n",
    "indexed = indexer.fit(df).transform(df)"
   ]
  },
  {
   "cell_type": "code",
   "execution_count": 14,
   "id": "ba821629-2f06-483b-a1b6-5f42530a6d15",
   "metadata": {},
   "outputs": [
    {
     "name": "stdout",
     "output_type": "stream",
     "text": [
      "+----------+----------+-------------------+-------+---------+\n",
      "|Event_Type|product_id|        category_id|  price|  user_id|\n",
      "+----------+----------+-------------------+-------+---------+\n",
      "|       0.0|  44600062|2103807459595387724|  35.79|541312140|\n",
      "|       0.0|   3900821|2053013552326770905|   33.2|554748717|\n",
      "|       0.0|  17200506|2053013559792632471|  543.1|519107250|\n",
      "|       0.0|   1307067|2053013558920217191| 251.74|550050854|\n",
      "|       0.0|   1004237|2053013555631882655|1081.98|535871217|\n",
      "|       0.0|   1480613|2053013561092866779| 908.62|512742880|\n",
      "|       0.0|  17300353|2053013553853497655| 380.96|555447699|\n",
      "|       0.0|  31500053|2053013558031024687|  41.16|550978835|\n",
      "|       0.0|  28719074|2053013565480109009| 102.71|520571932|\n",
      "|       0.0|   1004545|2053013555631882655| 566.01|537918940|\n",
      "|       0.0|   2900536|2053013554776244595|  51.46|555158050|\n",
      "|       0.0|   1005011|2053013555631882655| 900.64|530282093|\n",
      "|       0.0|   3900746|2053013552326770905| 102.38|555444559|\n",
      "|       0.0|  44600062|2103807459595387724|  35.79|541312140|\n",
      "|       0.0|  13500240|2053013557099889147|  93.18|555446365|\n",
      "|       0.0|  23100006|2053013561638126333| 357.79|513642368|\n",
      "|       0.0|   1801995|2053013554415534427| 193.03|537192226|\n",
      "|       0.0|  10900029|2053013555069845885|  58.95|519528062|\n",
      "|       0.0|   1306631|2053013558920217191| 580.89|550050854|\n",
      "|       0.0|   1005135|2053013555631882655|1747.79|535871217|\n",
      "+----------+----------+-------------------+-------+---------+\n",
      "only showing top 20 rows\n",
      "\n"
     ]
    }
   ],
   "source": [
    "indexed.show()"
   ]
  },
  {
   "cell_type": "code",
   "execution_count": 15,
   "id": "39276410-40c7-4083-9ef6-6c15eab71c3f",
   "metadata": {},
   "outputs": [],
   "source": [
    "assembler = VectorAssembler(inputCols=[\"product_id\", \"category_id\", \"price\", \"user_id\"], outputCol=\"features\")\n",
    "data = assembler.transform(indexed)"
   ]
  },
  {
   "cell_type": "code",
   "execution_count": 16,
   "id": "38db5114-84f7-4c9e-b9d2-7d828ed16928",
   "metadata": {},
   "outputs": [
    {
     "name": "stderr",
     "output_type": "stream",
     "text": [
      "[Stage 57:=====================================================>  (41 + 2) / 43]\r"
     ]
    },
    {
     "name": "stdout",
     "output_type": "stream",
     "text": [
      "Silhouette with squared euclidean distance = 0.98\n",
      "Cluster Centers: \n",
      "[8.96876017e+06 2.05317315e+18 2.93991366e+02 5.33595561e+08]\n",
      "[3.78016307e+07 2.10491584e+18 1.72294601e+02 5.32173873e+08]\n",
      "[3.45795435e+07 2.15294218e+18 3.01964853e+02 5.33087647e+08]\n"
     ]
    },
    {
     "name": "stderr",
     "output_type": "stream",
     "text": [
      "                                                                                \r"
     ]
    }
   ],
   "source": [
    "from pyspark.ml.clustering import KMeans\n",
    "from pyspark.ml.evaluation import ClusteringEvaluator\n",
    "\n",
    "kmeans = KMeans(featuresCol=\"features\", k=3)  \n",
    "model = kmeans.fit(data)\n",
    "\n",
    "predictions = model.transform(data)\n",
    "\n",
    "evaluator = ClusteringEvaluator()\n",
    "silhouette = evaluator.evaluate(predictions)\n",
    "print(\"Silhouette with squared euclidean distance = {:.2f}\".format(silhouette))\n",
    "\n",
    "print(\"Cluster Centers: \")\n",
    "centers = model.clusterCenters()\n",
    "for center in centers:\n",
    "    print(center)"
   ]
  },
  {
   "cell_type": "code",
   "execution_count": 17,
   "id": "5d06037d-35ce-4b9e-a0c3-7b6c1856bafd",
   "metadata": {},
   "outputs": [
    {
     "name": "stderr",
     "output_type": "stream",
     "text": [
      "                                                                                \r"
     ]
    }
   ],
   "source": [
    "total_count = data.count()\n",
    "\n",
    "train_ratio = 0.7\n",
    "\n",
    "train_count = int(train_ratio * total_count)\n",
    "test_count = total_count - train_count\n",
    "\n",
    "train_data = data.limit(train_count)\n",
    "test_data = data.subtract(train_data)"
   ]
  },
  {
   "cell_type": "code",
   "execution_count": 18,
   "id": "e0afaa4f-0a12-4772-8664-a3d6bc206613",
   "metadata": {},
   "outputs": [
    {
     "name": "stderr",
     "output_type": "stream",
     "text": [
      "[Stage 100:======================================>                  (6 + 3) / 9]\r"
     ]
    },
    {
     "name": "stdout",
     "output_type": "stream",
     "text": [
      "Test Accuracy = 95.54%\n"
     ]
    },
    {
     "name": "stderr",
     "output_type": "stream",
     "text": [
      "                                                                                \r"
     ]
    }
   ],
   "source": [
    "from pyspark.ml.classification import RandomForestClassifier\n",
    "from pyspark.ml.evaluation import MulticlassClassificationEvaluator\n",
    "\n",
    "rf = RandomForestClassifier(labelCol=\"Event_Type\", featuresCol=\"features\", numTrees=10)\n",
    "model = rf.fit(train_data)\n",
    "\n",
    "predictions = model.transform(test_data)\n",
    "\n",
    "evaluator = MulticlassClassificationEvaluator(labelCol=\"Event_Type\", predictionCol=\"prediction\", metricName=\"accuracy\")\n",
    "accuracy = evaluator.evaluate(predictions)\n",
    "print(\"Test Accuracy = {:.2f}%\".format(accuracy * 100))"
   ]
  },
  {
   "cell_type": "code",
   "execution_count": null,
   "id": "fd325618-bb73-4809-8632-d9645039aeae",
   "metadata": {},
   "outputs": [],
   "source": []
  }
 ],
 "metadata": {
  "kernelspec": {
   "display_name": "Python 3 (ipykernel)",
   "language": "python",
   "name": "python3"
  },
  "language_info": {
   "codemirror_mode": {
    "name": "ipython",
    "version": 3
   },
   "file_extension": ".py",
   "mimetype": "text/x-python",
   "name": "python",
   "nbconvert_exporter": "python",
   "pygments_lexer": "ipython3",
   "version": "3.11.8"
  }
 },
 "nbformat": 4,
 "nbformat_minor": 5
}
